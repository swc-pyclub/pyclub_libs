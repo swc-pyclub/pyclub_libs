{
 "cells": [
  {
   "cell_type": "code",
   "execution_count": null,
   "metadata": {},
   "outputs": [],
   "source": [
    "%load_ext autoreload\n",
    "%autoreload 2"
   ]
  },
  {
   "cell_type": "markdown",
   "metadata": {},
   "source": [
    "# Search operations"
   ]
  },
  {
   "cell_type": "code",
   "execution_count": null,
   "metadata": {},
   "outputs": [],
   "source": [
    "from filesystem import search_operations\n"
   ]
  },
  {
   "cell_type": "code",
   "execution_count": null,
   "metadata": {},
   "outputs": [],
   "source": [
    "def demo_find_most_recent_file_matching():\n",
    "    print(search_operations.find_most_recent_file_matching('containers/*.py'))\n",
    "\n",
    "demo_find_most_recent_file_matching()    "
   ]
  },
  {
   "cell_type": "code",
   "execution_count": null,
   "metadata": {},
   "outputs": [],
   "source": [
    "def test_get_enclosing_dir():\n",
    "    full_name = '~/kirsty/somewhere/something/file.ext'\n",
    "    assert('something' == search_operations.get_enclosing_dir(full_name))\n",
    "\n",
    "    full_name = '~/kirsty/somewhere/something/'\n",
    "    assert('something' == search_operations.get_enclosing_dir(full_name))\n",
    "\n",
    "    full_name = '~/kirsty/somewhere/something'\n",
    "    assert('somewhere' == search_operations.get_enclosing_dir(full_name))\n",
    "\n",
    "test_get_enclosing_dir()"
   ]
  },
  {
   "cell_type": "markdown",
   "metadata": {},
   "source": [
    "# Notebook utils"
   ]
  },
  {
   "cell_type": "code",
   "execution_count": null,
   "metadata": {},
   "outputs": [],
   "source": [
    "from notebooks import notebook_utils"
   ]
  },
  {
   "cell_type": "code",
   "execution_count": null,
   "metadata": {},
   "outputs": [],
   "source": [
    "def demo_print_md():\n",
    "    notebook_utils.print_md('## Subsection header')\n",
    "    notebook_utils.print_md('Here are some ***great*** results.')\n",
    "    notebook_utils.print_md('### Subsubsection')\n",
    "    notebook_utils.print_md(\"[I'm a link](https://www.google.com)\")\n",
    "    \n",
    "demo_print_md()"
   ]
  },
  {
   "cell_type": "markdown",
   "metadata": {},
   "source": [
    "# Plotting"
   ]
  },
  {
   "cell_type": "code",
   "execution_count": null,
   "metadata": {},
   "outputs": [],
   "source": [
    "import matplotlib\n",
    "import matplotlib.pyplot as plt\n",
    "import numpy as np"
   ]
  },
  {
   "cell_type": "code",
   "execution_count": null,
   "metadata": {},
   "outputs": [],
   "source": [
    "from plotting import plot_utils"
   ]
  },
  {
   "cell_type": "code",
   "execution_count": null,
   "metadata": {},
   "outputs": [],
   "source": [
    "def rand_2d_func():\n",
    "    # draw a random 2D quadratic\n",
    "    \n",
    "    def r():\n",
    "        # random in range [-0.5, 0.5]\n",
    "        return np.random.rand() - 0.5\n",
    "\n",
    "    grid_x, grid_y = np.mgrid[0:10, 0:10]\n",
    "    grid_x2 = np.square(grid_x)\n",
    "    grid_y2 = np.square(grid_y)    \n",
    "    grid_z = r() + grid_x*r() + grid_y*r() + grid_x2*r() + grid_y2*r()\n",
    "    \n",
    "    return grid_z\n",
    "\n",
    "def example_subplots():\n",
    "    for i in range(2):\n",
    "        for j in range(2):\n",
    "            plt.subplot(2,2,1+i*2+j)\n",
    "            z = rand_2d_func()\n",
    "            plot_utils.imagesc(z, show_colorbar=True)\n",
    "\n",
    "            \n",
    "def example_subplots_neater_colorbars():\n",
    "    for i in range(2):\n",
    "        for j in range(2):\n",
    "            plt.subplot(2,2,1+i*2+j)\n",
    "            z = rand_2d_func()\n",
    "            plot_utils.imagesc(z, show_colorbar=False)\n",
    "            plot_utils.colorbar(plt.gci())"
   ]
  },
  {
   "cell_type": "code",
   "execution_count": null,
   "metadata": {},
   "outputs": [],
   "source": [
    "def demo_imagesc():\n",
    "    z = rand_2d_func()\n",
    "    plot_utils.imagesc(z)  \n",
    "    plt.show()\n",
    "    \n",
    "demo_imagesc()"
   ]
  },
  {
   "cell_type": "code",
   "execution_count": null,
   "metadata": {},
   "outputs": [],
   "source": [
    "def demo_colorbar_layout():\n",
    "    notebook_utils.print_md('### usual colorbar layout')\n",
    "    example_subplots()\n",
    "    plt.show()\n",
    "    \n",
    "    notebook_utils.print_md('### tighter colorbar layout')\n",
    "    example_subplots_neater_colorbars()\n",
    "    plt.show()\n",
    "\n",
    "demo_colorbar_layout()\n",
    "\n",
    "# This is particularly useful if not all the subplots have colorlims, which I can't\n",
    "# be bothered to demonstrate here."
   ]
  },
  {
   "cell_type": "code",
   "execution_count": null,
   "metadata": {},
   "outputs": [],
   "source": [
    "def demo_fix_subplot_clims():\n",
    "    example_subplots_neater_colorbars()\n",
    "    plot_utils.fix_subplot_clims(plt.gcf())\n",
    "    plt.show()\n",
    "    \n",
    "demo_fix_subplot_clims()"
   ]
  },
  {
   "cell_type": "code",
   "execution_count": null,
   "metadata": {},
   "outputs": [],
   "source": [
    "def demo_nanhist():\n",
    "    z = rand_2d_func()\n",
    "    plt.hist(z.flatten(), 15)\n",
    "    plt.show()\n",
    "\n",
    "    z_with_nans = np.full((200,), np.nan)\n",
    "    z_with_nans[0:100] = z.flatten()\n",
    "    plot_utils.nanhist(z_with_nans, 15)\n",
    "    plt.show()\n",
    "    \n",
    "demo_nanhist()"
   ]
  },
  {
   "cell_type": "code",
   "execution_count": null,
   "metadata": {},
   "outputs": [],
   "source": [
    "\n",
    "def example_plot():\n",
    "\n",
    "    t = np.arange(0.0, 4.0, 0.1)\n",
    "    r = np.random.rand(len(t), )\n",
    "    s = t + np.sin(2 * np.pi * t) + r\n",
    "\n",
    "    fig, ax = plt.subplots()\n",
    "    ax.scatter(t, s)\n",
    "    ax.grid()\n"
   ]
  },
  {
   "cell_type": "code",
   "execution_count": null,
   "metadata": {},
   "outputs": [],
   "source": [
    "# Add some common lines to a plot (generally wouldn't draw all three on the same!)\n",
    "def demo_auto_lines():\n",
    "    example_plot()\n",
    "    plot_utils.add_unit_line('green')\n",
    "    plot_utils.add_x_zero_line('red')\n",
    "    plot_utils.add_y_zero_line('blue')\n",
    "    plt.show()\n",
    "    \n",
    "demo_auto_lines()"
   ]
  },
  {
   "cell_type": "code",
   "execution_count": null,
   "metadata": {},
   "outputs": [],
   "source": [
    "# A more believable scenario for drawing x = 0\n",
    "\n",
    "def demo_x_zero_line():\n",
    "    z = rand_2d_func()\n",
    "    plt.hist(z.flatten(), 15)\n",
    "    plot_utils.add_x_zero_line('red')\n",
    "    plt.show()\n",
    "    \n",
    "demo_x_zero_line()"
   ]
  },
  {
   "cell_type": "code",
   "execution_count": null,
   "metadata": {},
   "outputs": [],
   "source": [
    "# Got too many ticks on your axes?? Here's a quick n dirty fix.\n",
    "    \n",
    "def demo_fewer_ticks():\n",
    "    z = rand_2d_func()\n",
    "    plt.hist(z.flatten(), 15)\n",
    "    plot_utils.fewer_ticks()\n",
    "    plt.show()\n",
    "    \n",
    "demo_fewer_ticks()"
   ]
  },
  {
   "cell_type": "code",
   "execution_count": null,
   "metadata": {},
   "outputs": [],
   "source": [
    "def demo_linregress_auto():\n",
    "    example_plot()\n",
    "    plot_utils.plot_print_linregress_auto()\n",
    "    plt.show()\n",
    "\n",
    "demo_linregress_auto()"
   ]
  },
  {
   "cell_type": "markdown",
   "metadata": {},
   "source": [
    "# numpy utils"
   ]
  },
  {
   "cell_type": "code",
   "execution_count": null,
   "metadata": {},
   "outputs": [],
   "source": [
    "from containers import numpy_utils"
   ]
  },
  {
   "cell_type": "code",
   "execution_count": null,
   "metadata": {},
   "outputs": [],
   "source": [
    "def test_is_vec():\n",
    "    a = np.random.rand(10,)\n",
    "    b = np.random.rand(10,1)\n",
    "    c = np.random.rand(10,3)\n",
    "\n",
    "    assert(numpy_utils.is_vec(a))\n",
    "    assert(numpy_utils.is_vec(b))\n",
    "    assert(not numpy_utils.is_vec(c))\n",
    "    \n",
    "def test_make_vec():\n",
    "    a = np.random.rand(10,)\n",
    "    b = np.random.rand(10,1)\n",
    "\n",
    "    assert ((10,1) == numpy_utils.make_vec(a).shape)\n",
    "    assert ((10,1) == numpy_utils.make_vec(b).shape)\n",
    "\n",
    "test_is_vec()\n",
    "test_make_vec()"
   ]
  },
  {
   "cell_type": "code",
   "execution_count": null,
   "metadata": {},
   "outputs": [],
   "source": [
    "def test_batch_outer():\n",
    "\n",
    "    n = 10\n",
    "    d = 3\n",
    "    A = np.random.rand(n,d)\n",
    "    A_At = numpy_utils.batch_outer(A)\n",
    "\n",
    "    assert(A_At.shape == (n,d,d))\n",
    "\n",
    "    for i in range(n):\n",
    "        a_i = A[i]\n",
    "        outer = np.outer(a_i, a_i)\n",
    "        assert(np.all(np.isclose(A_At[i], outer)))\n",
    "\n",
    "test_batch_outer()"
   ]
  },
  {
   "cell_type": "code",
   "execution_count": null,
   "metadata": {},
   "outputs": [],
   "source": [
    "def demo_batch_diag_v1():\n",
    "    a = np.asarray([[1,2,3],[4,5,6],[7,8,9]])\n",
    "    print(a)\n",
    "    print('')\n",
    "    print(numpy_utils.batch_diag(a))\n",
    "    \n",
    "demo_batch_diag_v1()"
   ]
  },
  {
   "cell_type": "code",
   "execution_count": null,
   "metadata": {},
   "outputs": [],
   "source": [
    "def demo_batch_diag_v2():\n",
    "    a = np.random.randint(1,5,(10,3,3))\n",
    "    print(a)\n",
    "    print()\n",
    "    print(numpy_utils.batch_diag(a))\n",
    "\n",
    "demo_batch_diag_v2()"
   ]
  },
  {
   "cell_type": "code",
   "execution_count": null,
   "metadata": {},
   "outputs": [],
   "source": [
    "def demo_ordered_eig():\n",
    "    # random psd matrix\n",
    "    A = np.random.rand(10,10)\n",
    "    A = np.dot(A,A.T) \n",
    "    \n",
    "    vals, vecs = numpy_utils.ordered_eig(A)\n",
    "    print(vals)\n",
    "\n",
    "demo_ordered_eig()"
   ]
  },
  {
   "cell_type": "code",
   "execution_count": null,
   "metadata": {},
   "outputs": [],
   "source": [
    "def demo_print_nparray_props():\n",
    "    z = rand_2d_func().flatten()\n",
    "    plt.hist(z)\n",
    "    plt.show()\n",
    "    numpy_utils.print_nparray_props(z)\n",
    "\n",
    "demo_print_nparray_props()"
   ]
  },
  {
   "cell_type": "code",
   "execution_count": null,
   "metadata": {},
   "outputs": [],
   "source": []
  },
  {
   "cell_type": "code",
   "execution_count": null,
   "metadata": {},
   "outputs": [],
   "source": []
  }
 ],
 "metadata": {
  "kernelspec": {
   "display_name": "Python 3",
   "language": "python",
   "name": "python3"
  },
  "language_info": {
   "codemirror_mode": {
    "name": "ipython",
    "version": 3
   },
   "file_extension": ".py",
   "mimetype": "text/x-python",
   "name": "python",
   "nbconvert_exporter": "python",
   "pygments_lexer": "ipython3",
   "version": "3.6.1"
  }
 },
 "nbformat": 4,
 "nbformat_minor": 2
}
